{
 "cells": [
  {
   "cell_type": "markdown",
   "metadata": {},
   "source": [
    "## Генерация полифонической музыки с кондишнингом\n",
    "\n",
    "В этой версии используется VAE. Энкодер -- двухслойная полносвязная нейронная сеть, декодер -- зеркальная двухслойная полносвязная нейронная сеть."
   ]
  },
  {
   "cell_type": "markdown",
   "metadata": {},
   "source": [
    "Импортируем torch и numpy:"
   ]
  },
  {
   "cell_type": "code",
   "execution_count": 1,
   "metadata": {},
   "outputs": [],
   "source": [
    "import torch\n",
    "import torch.nn as nn\n",
    "import torch.nn.functional as F\n",
    "import torch.optim as optim\n",
    "\n",
    "import numpy as np\n",
    "import random"
   ]
  },
  {
   "cell_type": "markdown",
   "metadata": {},
   "source": [
    "Сделаем также пользовательский импорт"
   ]
  },
  {
   "cell_type": "code",
   "execution_count": 2,
   "metadata": {},
   "outputs": [],
   "source": [
    "from decode_patterns import data_conversion"
   ]
  },
  {
   "cell_type": "code",
   "execution_count": 3,
   "metadata": {},
   "outputs": [],
   "source": [
    "data_height = 64\n",
    "drum_width = 14\n",
    "melody_width = 36\n",
    "data_width = drum_width + melody_width\n",
    "data_size = data_height*data_width\n",
    "train_file = \"decode_patterns/train.tsv\" # обучающая выборка\n",
    "validation_file = \"decode_patterns/validation.tsv\" # валидационная выборка\n",
    "human_file = \"decode_patterns/human.tsv\" # как валидационная, только для ассесмента людей (read as \"validation\")"
   ]
  },
  {
   "cell_type": "markdown",
   "metadata": {},
   "source": [
    "Загружаем датасет"
   ]
  },
  {
   "cell_type": "code",
   "execution_count": 5,
   "metadata": {},
   "outputs": [],
   "source": [
    "# import dataset\n",
    "drum, bass = data_conversion.make_lstm_dataset_conditioning(height=data_height,\n",
    "                                                            patterns_file=train_file,\n",
    "                                                            mono=False)\n",
    "\n",
    "# define shuffling of dataset\n",
    "def shuffle(A, B, p=0.8):\n",
    "    # take 80% to training, other to testing\n",
    "    AB = list(zip(A, B))\n",
    "    L = len(AB)\n",
    "    pivot = int(p*L)\n",
    "    random.shuffle(AB)\n",
    "    yield [p[0] for p in AB[:pivot]]\n",
    "    yield [p[1] for p in AB[:pivot]]\n",
    "    yield [p[0] for p in AB[pivot:]]\n",
    "    yield [p[1] for p in AB[pivot:]]\n",
    "    \n",
    "    \n",
    "# we can shuffle train and test set like this:\n",
    "drum_train, bass_train, drum_test, bass_test = shuffle(drum, bass)\n",
    "\n",
    "# selecting a validation set\n",
    "drum_validation, bass_validation = data_conversion.make_lstm_dataset_conditioning(height=data_height,\n",
    "                                                                                  patterns_file=validation_file,\n",
    "                                                                                  mono=False)"
   ]
  },
  {
   "cell_type": "code",
   "execution_count": 6,
   "metadata": {},
   "outputs": [
    {
     "data": {
      "text/plain": [
       "NumpyImage(image=array([[0., 0., 0., ..., 0., 0., 0.],\n",
       "       [0., 0., 0., ..., 0., 0., 0.],\n",
       "       [0., 0., 0., ..., 0., 0., 0.],\n",
       "       ...,\n",
       "       [0., 0., 0., ..., 0., 0., 0.],\n",
       "       [0., 0., 0., ..., 0., 0., 0.],\n",
       "       [0., 0., 0., ..., 0., 0., 0.]], dtype=float32), tempo=96, instrument=27, denominator=4, min_note=45)"
      ]
     },
     "execution_count": 6,
     "metadata": {},
     "output_type": "execute_result"
    }
   ],
   "source": [
    "bass[16]"
   ]
  },
  {
   "cell_type": "markdown",
   "metadata": {},
   "source": [
    "Модель определим в самом простом варианте, который только можно себе представить -- как в примере с конечным автоматом"
   ]
  },
  {
   "cell_type": "code",
   "execution_count": 7,
   "metadata": {},
   "outputs": [],
   "source": [
    "# Encoder = LSTM\n",
    "# Decoder = FCNN\n",
    "class DrumNBass_FFNN_to_FFNN(nn.Module):\n",
    "    \n",
    "    def __init__(self, data_height, drum_width, melody_width):\n",
    "        super(DrumNBass_FFNN_to_FFNN, self).__init__()\n",
    "        \n",
    "        self.data_height = data_height\n",
    "        self.drum_width = drum_width\n",
    "        self.melody_width = melody_width\n",
    "        self.condition_size = 2 # размер подмешиваемого conditioning\n",
    "        \n",
    "        input_dim = data_height*drum_width\n",
    "        latent_dim = 4\n",
    "        hidden_dim = (input_dim + 2*latent_dim) // 3\n",
    "        output_dim = data_height*melody_width\n",
    "        \n",
    "        # Linear function 1: 128 * 14 = 1792 --> 2048\n",
    "        # веса накидываются тут\n",
    "        self.fc1 = nn.Linear(input_dim + self.condition_size, hidden_dim)\n",
    "#         nn.init.normal_(self.fc1.weight, mean=1.5, std=1.0)\n",
    "        # решение по весам\n",
    "        self.relu1 = nn.Sigmoid()\n",
    "        \n",
    "        \n",
    "        self.fc2 = nn.Linear(hidden_dim, hidden_dim)\n",
    "#         nn.init.normal_(self.fc2.weight, mean=1.5, std=1.0)\n",
    "        self.relu2 = nn.Sigmoid()\n",
    "\n",
    "\n",
    "        # Linear function 31: 2048 --> 4\n",
    "        # для средних значений\n",
    "        self.fc31 = nn.Linear(hidden_dim, latent_dim)\n",
    "        # Non-linearity 31\n",
    "        self.relu31 = nn.Sigmoid()\n",
    "        \n",
    "        \n",
    "        # Linear function 22: 2048 --> 4\n",
    "        # для стандартных отклонений\n",
    "        self.fc32 = nn.Linear(hidden_dim, latent_dim)\n",
    "        # Non-linearity 22\n",
    "        self.relu32 = nn.Sigmoid()\n",
    "\n",
    "        # Linear function 4: 4 --> 2048\n",
    "        self.fc4 = nn.Linear(latent_dim + self.condition_size, hidden_dim)\n",
    "#         nn.init.normal_(self.fc4.weight, mean=1.5, std=1.0)\n",
    "        # Non-linearity 4\n",
    "        self.relu4 = nn.Sigmoid()\n",
    "        \n",
    "        self.fc5 = nn.Linear(hidden_dim, hidden_dim)\n",
    "#         nn.init.normal_(self.fc5.weight, mean=1.5, std=1.0)\n",
    "        self.relu5 = nn.Sigmoid()\n",
    "\n",
    "        # Linear function 6 (readout): 2048 --> 128 * 36 = 4608\n",
    "        self.fc6 = nn.Linear(hidden_dim, output_dim)  \n",
    "        self.sigmoid = nn.Sigmoid()\n",
    "        \n",
    "    def encoder(self, x, cond):\n",
    "        out = torch.cat((x, cond), axis=1) # добавляем conditioning\n",
    "        # Linear function 1\n",
    "        out = self.fc1(out)\n",
    "        # Non-linearity 1\n",
    "        out = self.relu1(out)\n",
    "        \n",
    "        \n",
    "        # Linear function 2\n",
    "        out = self.fc2(out)\n",
    "        # Non-linearity 2\n",
    "        out = self.relu2(out)\n",
    "\n",
    "        # Linear function 31\n",
    "        mu = self.fc31(out)\n",
    "        # Non-linearity 31\n",
    "        mu = self.relu31(mu)\n",
    "        \n",
    "        \n",
    "        # Linear function 22\n",
    "        logvar = self.fc32(out)\n",
    "        # Non-linearity 22\n",
    "        logvar = self.relu32(logvar)\n",
    "        \n",
    "        return mu, logvar\n",
    "    \n",
    "    # reference:\n",
    "    # https://github.com/pytorch/examples/blob/master/vae/main.py\n",
    "    def reparameterize(self, mu, logvar):\n",
    "        std = torch.exp(0.5*logvar)\n",
    "        eps = torch.randn_like(std)\n",
    "        return mu + eps*std\n",
    "    # end reference\n",
    "    \n",
    "    def decoder(self, x, cond):\n",
    "        out = torch.cat((x, cond), axis=1) # добавляем conditioning\n",
    "        # Linear function 4\n",
    "        out = self.fc4(out)\n",
    "        # Non-linearity 4\n",
    "        out = self.relu4(out)\n",
    "        \n",
    "        # Linear function 5\n",
    "        out = self.fc5(out)\n",
    "        # Non-linearity 5\n",
    "        out = self.relu5(out)\n",
    "\n",
    "        # Linear function 6 (readout)\n",
    "        out = self.fc6(out)\n",
    "        out = self.sigmoid(out)\n",
    "        return out\n",
    "    \n",
    "    @staticmethod\n",
    "    def get_images(input):\n",
    "        return torch.tensor(list(map(lambda p: p.image.flatten(), input)), dtype=torch.float)\n",
    "    \n",
    "    @staticmethod\n",
    "    def get_conditionings(input):\n",
    "        return torch.tensor(list(map(lambda p: [p.tempo, p.instrument], input)), dtype=torch.float)\n",
    "    \n",
    "    def forward(self, x):\n",
    "        # добавляем conditioning\n",
    "        conditionings = self.get_conditionings(x)\n",
    "        images = self.get_images(x)\n",
    "        mean, logvar = self.encoder(images, conditionings)\n",
    "        # генерируем случайную точку в латентном пространстве\n",
    "        result = self.reparameterize(mean, logvar)\n",
    "        result = self.decoder(result, conditionings)\n",
    "        return result.view((-1, self.data_height, self.melody_width)), mean, logvar"
   ]
  },
  {
   "cell_type": "code",
   "execution_count": 8,
   "metadata": {},
   "outputs": [],
   "source": [
    "# часть обучения\n",
    "dnb_ffnn = DrumNBass_FFNN_to_FFNN(data_height, drum_width, melody_width)\n",
    "\n",
    "# criterion = nn.MSELoss() # -- с этим всё работает (точнее, работало)\n",
    "# criterion = nn.NLLLoss() # -- этот товарищ требует, чтобы LSTM выдавал классы,\n",
    "# criterion = nn.CrossEntropyLoss() # и этот тоже\n",
    "# (числа от 0 до C-1), но как всё-таки его заставить это делать?...\n",
    "\n",
    "# оценим также и разнообразие мелодии по её.. дисперсии?)\n",
    "# def melody_variety(melody):\n",
    "#     return 1/(1 + (melody.sum(axis=2) > 1).int())\n",
    "\n",
    "# на самом деле, попробуем функцию потерь взять из VAE\n",
    "\n",
    "# Reference: https://github.com/pytorch/examples/blob/master/vae/main.py\n",
    "# Reconstruction + KL divergence losses summed over all elements and batch\n",
    "def reconstruction_loss(recon_x, x):\n",
    "    return F.binary_cross_entropy(recon_x, x, reduction='sum')\n",
    "\n",
    "def reconstruction_KL_loss_function(recon_x, x, mu, logvar):\n",
    "    BCE = F.binary_cross_entropy(recon_x, x, reduction='sum')\n",
    "\n",
    "    # see Appendix B from VAE paper:\n",
    "    # Kingma and Welling. Auto-Encoding Variational Bayes. ICLR, 2014\n",
    "    # https://arxiv.org/abs/1312.6114\n",
    "    # 0.5 * sum(1 + log(sigma^2) - mu^2 - sigma^2)\n",
    "    KLD = -0.5 * torch.sum(1 + logvar - mu.pow(2) - logvar.exp())\n",
    "\n",
    "    return BCE + KLD\n",
    "\n",
    "optimizer = optim.Adam(dnb_ffnn.parameters(), lr=0.001)\n",
    "# optimizer = optim.SGD(dnb_ffnn.parameters(), lr=0.001, momentum=0.9)"
   ]
  },
  {
   "cell_type": "markdown",
   "metadata": {},
   "source": [
    "Посмотрим, как модель форвардится на один пример"
   ]
  },
  {
   "cell_type": "code",
   "execution_count": 9,
   "metadata": {},
   "outputs": [
    {
     "data": {
      "text/plain": [
       "torch.Size([3, 64, 36])"
      ]
     },
     "execution_count": 9,
     "metadata": {},
     "output_type": "execute_result"
    }
   ],
   "source": [
    "dnb_ffnn.forward([drum_validation[16], drum_validation[14], drum_validation[43]])[0].size()"
   ]
  },
  {
   "cell_type": "code",
   "execution_count": 10,
   "metadata": {},
   "outputs": [
    {
     "data": {
      "text/plain": [
       "(64, 36)"
      ]
     },
     "execution_count": 10,
     "metadata": {},
     "output_type": "execute_result"
    }
   ],
   "source": [
    "bass_validation[16].image.shape"
   ]
  },
  {
   "cell_type": "markdown",
   "metadata": {},
   "source": [
    "Найденные баги и их решения:\n",
    "\n",
    "https://stackoverflow.com/questions/56741087/how-to-fix-runtimeerror-expected-object-of-scalar-type-float-but-got-scalar-typ\n",
    "\n",
    "https://stackoverflow.com/questions/49206550/pytorch-error-multi-target-not-supported-in-crossentropyloss/49209628\n",
    "\n",
    "https://stackoverflow.com/questions/56243672/expected-target-size-50-88-got-torch-size50-288-88"
   ]
  },
  {
   "cell_type": "code",
   "execution_count": 11,
   "metadata": {
    "scrolled": true
   },
   "outputs": [
    {
     "name": "stdout",
     "output_type": "stream",
     "text": [
      "shuffle_every_epoch is on\n",
      "Epoch #0\n",
      "[1,     1] train loss: 26007.4667969\n",
      "[1,     6] train loss: 15319.2210286\n",
      "[1,    11] train loss: 6760.9116211\n",
      "[1,    16] train loss: 2677.7970785\n",
      "[1,    21] train loss: 1886.4801432\n",
      "[1,    26] train loss: 1620.8393351\n",
      "[1,    31] train loss: 1517.1423136\n",
      "[1,    36] train loss: 1621.6326294\n",
      "[1,    41] train loss: 1696.4822795\n",
      "[1,    46] train loss: 1562.4137980\n",
      "[1,    51] train loss: 1462.6774292\n",
      "[1,    56] train loss: 1460.3236491\n",
      "[1,    61] train loss: 1466.0707601\n",
      "[1,    66] train loss: 1503.2029012\n",
      "[1,    71] train loss: 1560.3666789\n",
      "[1,    76] train loss: 1403.7815145\n",
      "[1,    81] train loss: 1458.6035360\n",
      "[1,    86] train loss: 1465.6116943\n",
      "[1,    91] train loss: 1357.8545736\n",
      "[1,    96] train loss: 1555.1640422\n",
      "[1,   101] train loss: 1560.8454793\n",
      "[1,   106] train loss: 1395.5764364\n",
      "[1,   111] train loss: 1432.3311361\n",
      "[1,   116] train loss: 1435.4966227\n",
      "[1,   121] train loss: 1577.8641968\n",
      "[1,   126] train loss: 1467.0599162\n",
      "[1,   131] train loss: 1433.8996785\n",
      "[1,   136] train loss: 1465.6388753\n",
      "[1,   141] train loss: 1541.7079671\n",
      "[1,   146] train loss: 1520.6807454\n",
      "[1,   151] train loss: 1482.0120850\n",
      "[1,   156] train loss: 1485.9205933\n",
      "[1,   161] train loss: 1513.0692749\n",
      "[1,   166] train loss: 1450.3816528\n",
      "[1,   171] train loss: 1377.3466390\n",
      "[1,   176] train loss: 1339.4062093\n",
      "[1,   181] train loss: 1508.0977987\n",
      "[1,   186] train loss: 1421.1392008\n",
      "[1,   191] train loss: 1538.6064657\n",
      "[1,   196] train loss: 1501.3518270\n",
      "[1,   201] train loss: 1572.8571574\n",
      "[1,   206] train loss: 1418.1914469\n",
      "[1,   211] train loss: 1463.3738607\n",
      "[1,   216] train loss: 1559.0161336\n",
      "[1,   221] train loss: 1505.9158122\n",
      "[1,   226] train loss: 1344.2008870\n",
      "[1,   231] train loss: 1343.5054118\n",
      "[1,   236] train loss: 1513.4401449\n",
      "[1,   241] train loss: 1580.9851888\n",
      "[1,   246] train loss: 1461.2390544\n",
      "[1,   251] train loss: 1480.3358358\n",
      "[1,   256] train loss: 1469.5285848\n",
      "[1,   261] train loss: 1612.6882935\n",
      "[1,   266] train loss: 1574.4476929\n",
      "[1,   271] train loss: 1530.2798665\n",
      "[1,   276] train loss: 1530.9260661\n",
      "[1,   281] train loss: 1548.7192586\n",
      "[1,   286] train loss: 1458.4073893\n",
      "[1,   291] train loss: 1424.7454020\n",
      "[1,   296] train loss: 1494.8084106\n",
      "[1,   301] train loss: 1524.8720500\n",
      "[1,   306] train loss: 1566.9934082\n",
      "[1,   311] train loss: 1452.2150065\n",
      "[1,   316] train loss: 1510.4518433\n",
      "[1,   321] train loss: 1507.0327759\n",
      "[1,   326] train loss: 1464.0602824\n",
      "[1,   331] train loss: 1614.3984375\n",
      "[1,   336] train loss: 1421.5084025\n",
      "[1,   341] train loss: 1629.4631551\n",
      "[1,   346] train loss: 1558.7541097\n",
      "[1,   351] train loss: 1376.9471232\n",
      "[1,   356] train loss: 1480.9194132\n",
      "[1,   361] train loss: 1523.9030965\n",
      "[1,   366] train loss: 1631.6731974\n",
      "[1,   371] train loss: 1427.5732015\n",
      "[1,   376] train loss: 1608.4960938\n",
      "[1,   381] train loss: 1439.0011597\n",
      "[1,   386] train loss: 1501.6375936\n",
      "[1,   391] train loss: 1428.4210002\n",
      "[1,   396] train loss: 1472.0702108\n",
      "[1,   401] train loss: 1462.0586344\n",
      "[1,   406] train loss: 1525.5209961\n",
      "[1,   411] train loss: 1559.1220093\n",
      "[1,   416] train loss: 1517.0477091\n",
      "[1,   421] train loss: 1591.1572673\n",
      "[1,   426] train loss: 1474.9763387\n",
      "[1,   431] train loss: 1451.9028524\n",
      "[1,   436] train loss: 1421.9370321\n",
      "[1,   441] train loss: 1585.2139079\n",
      "[1,   446] train loss: 1389.4761149\n",
      "[1,   451] train loss: 1442.1575317\n",
      "[1,   456] train loss: 1623.6407674\n",
      "[1,   461] train loss: 1590.3762004\n",
      "[1,   466] train loss: 1517.7755737\n",
      "[1,   471] train loss: 1561.1360677\n",
      "[1,   476] train loss: 1508.1191406\n",
      "[1,   481] train loss: 1540.0810954\n",
      "[1,   486] train loss: 1445.5653687\n",
      "[1,   491] train loss: 1475.2304281\n",
      "[1,   496] train loss: 1415.3103231\n",
      "[1,   500] train loss: 1379.1009766\n",
      "#1 reconstruction test loss: 112.27389526367188\n",
      "Epoch #1\n",
      "[2,     1] train loss: 1739.1442871\n",
      "[2,     6] train loss: 1396.8232218\n",
      "[2,    11] train loss: 1468.1342570\n",
      "[2,    16] train loss: 1420.6816203\n",
      "[2,    21] train loss: 1549.1110026\n",
      "[2,    26] train loss: 1432.3267619\n",
      "[2,    31] train loss: 1485.4995931\n",
      "[2,    36] train loss: 1510.4992065\n",
      "[2,    41] train loss: 1523.3799845\n",
      "[2,    46] train loss: 1462.3807373\n",
      "[2,    51] train loss: 1479.5745646\n",
      "[2,    56] train loss: 1495.0994873\n",
      "[2,    61] train loss: 1625.2710368\n",
      "[2,    66] train loss: 1411.3243205\n",
      "[2,    71] train loss: 1706.3742879\n",
      "[2,    76] train loss: 1402.3564657\n",
      "[2,    81] train loss: 1437.4058228\n",
      "[2,    86] train loss: 1501.0925700\n",
      "[2,    91] train loss: 1461.6872152\n",
      "[2,    96] train loss: 1576.8773600\n",
      "[2,   101] train loss: 1544.0145467\n",
      "[2,   106] train loss: 1423.1151326\n",
      "[2,   111] train loss: 1592.4431966\n",
      "[2,   116] train loss: 1437.2090658\n",
      "[2,   121] train loss: 1500.6511027\n",
      "[2,   126] train loss: 1452.3113200\n",
      "[2,   131] train loss: 1616.0991007\n",
      "[2,   136] train loss: 1476.4635824\n",
      "[2,   141] train loss: 1429.5203654\n",
      "[2,   146] train loss: 1517.2013143\n",
      "[2,   151] train loss: 1545.1221313\n",
      "[2,   156] train loss: 1646.5742188\n"
     ]
    },
    {
     "ename": "KeyboardInterrupt",
     "evalue": "",
     "output_type": "error",
     "traceback": [
      "\u001b[1;31m---------------------------------------------------------------------------\u001b[0m",
      "\u001b[1;31mKeyboardInterrupt\u001b[0m                         Traceback (most recent call last)",
      "\u001b[1;32m<ipython-input-11-51757c2da78f>\u001b[0m in \u001b[0;36m<module>\u001b[1;34m\u001b[0m\n\u001b[0;32m     40\u001b[0m             \u001b[0mloss\u001b[0m \u001b[1;33m+=\u001b[0m \u001b[0mreconstruction_KL_loss_function\u001b[0m\u001b[1;33m(\u001b[0m\u001b[0mbass_outputs\u001b[0m\u001b[1;33m[\u001b[0m\u001b[0mi\u001b[0m\u001b[1;33m]\u001b[0m\u001b[1;33m,\u001b[0m \u001b[0mbatch_bass_train_raw\u001b[0m\u001b[1;33m[\u001b[0m\u001b[0mi\u001b[0m\u001b[1;33m]\u001b[0m\u001b[1;33m,\u001b[0m \u001b[0mmu\u001b[0m\u001b[1;33m[\u001b[0m\u001b[0mi\u001b[0m\u001b[1;33m]\u001b[0m\u001b[1;33m,\u001b[0m \u001b[0mstddev\u001b[0m\u001b[1;33m[\u001b[0m\u001b[0mi\u001b[0m\u001b[1;33m]\u001b[0m\u001b[1;33m)\u001b[0m\u001b[1;33m\u001b[0m\u001b[1;33m\u001b[0m\u001b[0m\n\u001b[0;32m     41\u001b[0m         \u001b[0mloss\u001b[0m\u001b[1;33m.\u001b[0m\u001b[0mbackward\u001b[0m\u001b[1;33m(\u001b[0m\u001b[1;33m)\u001b[0m\u001b[1;33m\u001b[0m\u001b[1;33m\u001b[0m\u001b[0m\n\u001b[1;32m---> 42\u001b[1;33m         \u001b[0moptimizer\u001b[0m\u001b[1;33m.\u001b[0m\u001b[0mstep\u001b[0m\u001b[1;33m(\u001b[0m\u001b[1;33m)\u001b[0m\u001b[1;33m\u001b[0m\u001b[1;33m\u001b[0m\u001b[0m\n\u001b[0m\u001b[0;32m     43\u001b[0m \u001b[1;33m\u001b[0m\u001b[0m\n\u001b[0;32m     44\u001b[0m         \u001b[1;31m# print statistics\u001b[0m\u001b[1;33m\u001b[0m\u001b[1;33m\u001b[0m\u001b[1;33m\u001b[0m\u001b[0m\n",
      "\u001b[1;32m~\\Anaconda3\\lib\\site-packages\\torch\\optim\\adam.py\u001b[0m in \u001b[0;36mstep\u001b[1;34m(self, closure)\u001b[0m\n\u001b[0;32m    101\u001b[0m                     \u001b[0mdenom\u001b[0m \u001b[1;33m=\u001b[0m \u001b[1;33m(\u001b[0m\u001b[0mmax_exp_avg_sq\u001b[0m\u001b[1;33m.\u001b[0m\u001b[0msqrt\u001b[0m\u001b[1;33m(\u001b[0m\u001b[1;33m)\u001b[0m \u001b[1;33m/\u001b[0m \u001b[0mmath\u001b[0m\u001b[1;33m.\u001b[0m\u001b[0msqrt\u001b[0m\u001b[1;33m(\u001b[0m\u001b[0mbias_correction2\u001b[0m\u001b[1;33m)\u001b[0m\u001b[1;33m)\u001b[0m\u001b[1;33m.\u001b[0m\u001b[0madd_\u001b[0m\u001b[1;33m(\u001b[0m\u001b[0mgroup\u001b[0m\u001b[1;33m[\u001b[0m\u001b[1;34m'eps'\u001b[0m\u001b[1;33m]\u001b[0m\u001b[1;33m)\u001b[0m\u001b[1;33m\u001b[0m\u001b[1;33m\u001b[0m\u001b[0m\n\u001b[0;32m    102\u001b[0m                 \u001b[1;32melse\u001b[0m\u001b[1;33m:\u001b[0m\u001b[1;33m\u001b[0m\u001b[1;33m\u001b[0m\u001b[0m\n\u001b[1;32m--> 103\u001b[1;33m                     \u001b[0mdenom\u001b[0m \u001b[1;33m=\u001b[0m \u001b[1;33m(\u001b[0m\u001b[0mexp_avg_sq\u001b[0m\u001b[1;33m.\u001b[0m\u001b[0msqrt\u001b[0m\u001b[1;33m(\u001b[0m\u001b[1;33m)\u001b[0m \u001b[1;33m/\u001b[0m \u001b[0mmath\u001b[0m\u001b[1;33m.\u001b[0m\u001b[0msqrt\u001b[0m\u001b[1;33m(\u001b[0m\u001b[0mbias_correction2\u001b[0m\u001b[1;33m)\u001b[0m\u001b[1;33m)\u001b[0m\u001b[1;33m.\u001b[0m\u001b[0madd_\u001b[0m\u001b[1;33m(\u001b[0m\u001b[0mgroup\u001b[0m\u001b[1;33m[\u001b[0m\u001b[1;34m'eps'\u001b[0m\u001b[1;33m]\u001b[0m\u001b[1;33m)\u001b[0m\u001b[1;33m\u001b[0m\u001b[1;33m\u001b[0m\u001b[0m\n\u001b[0m\u001b[0;32m    104\u001b[0m \u001b[1;33m\u001b[0m\u001b[0m\n\u001b[0;32m    105\u001b[0m                 \u001b[0mstep_size\u001b[0m \u001b[1;33m=\u001b[0m \u001b[0mgroup\u001b[0m\u001b[1;33m[\u001b[0m\u001b[1;34m'lr'\u001b[0m\u001b[1;33m]\u001b[0m \u001b[1;33m/\u001b[0m \u001b[0mbias_correction1\u001b[0m\u001b[1;33m\u001b[0m\u001b[1;33m\u001b[0m\u001b[0m\n",
      "\u001b[1;31mKeyboardInterrupt\u001b[0m: "
     ]
    }
   ],
   "source": [
    "epoch_count = 35\n",
    "batch_size = 16\n",
    "shuffle_every_epoch = True\n",
    "    \n",
    "if shuffle_every_epoch:\n",
    "    print(f\"shuffle_every_epoch is on\")\n",
    "else:\n",
    "    print(f\"shuffle_every_epoch is off\")\n",
    "    # shuffle train and test set:\n",
    "    drum_train, bass_train, drum_test, bass_test = shuffle(drum, bass)\n",
    "        \n",
    "for epoch in range(epoch_count):  # loop over the dataset multiple times\n",
    "    print(f\"Epoch #{epoch}\")\n",
    "    if shuffle_every_epoch:\n",
    "        # shuffle train and test set:\n",
    "        drum_train, bass_train, drum_test, bass_test = shuffle(drum, bass)\n",
    "        \n",
    "    examples_count = len(drum_train)\n",
    "    examples_id = 0\n",
    "    \n",
    "    running_loss = 0.0\n",
    "    runnint_count = 0\n",
    "    batch_id = 0\n",
    "    while examples_id < examples_count:\n",
    "        batch_drum_train = drum_train[examples_id:examples_id + batch_size]\n",
    "        batch_bass_train = bass_train[examples_id:examples_id + batch_size]\n",
    "        \n",
    "        batch_bass_train_raw = torch.tensor(list(map(lambda p: p.image, batch_bass_train)), dtype=torch.float)\n",
    "\n",
    "        # zero the parameter gradients\n",
    "        optimizer.zero_grad()\n",
    "\n",
    "        # forward + backward + optimize\n",
    "        bass_outputs, mu, stddev = dnb_ffnn(batch_drum_train)\n",
    "        # bass_outputs = bass_outputs.squeeze()\n",
    "        \n",
    "        # loss = criterion(bass_outputs, batch_bass_train_raw)\n",
    "        loss = 0\n",
    "        for i in range(batch_size):\n",
    "            loss += reconstruction_KL_loss_function(bass_outputs[i], batch_bass_train_raw[i], mu[i], stddev[i])\n",
    "        loss.backward()\n",
    "        optimizer.step()\n",
    "\n",
    "        # print statistics\n",
    "        running_loss += loss.item()\n",
    "        runnint_count += 1\n",
    "        period = 5\n",
    "        if batch_id % period == 0 or examples_id + batch_size >= examples_count:\n",
    "            print('[%d, %5d] train loss: %.7f' %\n",
    "                  (epoch + 1, batch_id + 1, running_loss / runnint_count))\n",
    "            running_loss = 0.0\n",
    "            runnint_count = 1\n",
    "            \n",
    "        # update batch info\n",
    "        examples_id += batch_size\n",
    "        batch_id += 1\n",
    "        \n",
    "    # here we can insert measure error on test set\n",
    "    with torch.no_grad():\n",
    "        batch_bass_test_raw = torch.tensor(list(map(lambda p: p.image, bass_test)), dtype=torch.float)\n",
    "        bass_outputs, _, _ = dnb_ffnn(drum_test)\n",
    "        \n",
    "        test_count = len(drum_test)\n",
    "        test_loss = 0\n",
    "        for k in range(test_count):\n",
    "            test_loss += reconstruction_loss(bass_outputs[k], batch_bass_test_raw[k])\n",
    "        print(f\"#{epoch + 1} reconstruction test loss: {test_loss/test_count}\")\n",
    "    \n",
    "\n",
    "#should check accuracy on validation set\n",
    "with torch.no_grad():\n",
    "    batch_bass_validation_raw = torch.tensor(list(map(lambda p: p.image, bass_validation)), dtype=torch.float)\n",
    "    bass_outputs, _, _ = dnb_ffnn(drum_test)\n",
    "\n",
    "    validation_count = len(drum_test)\n",
    "    validation_loss = 0\n",
    "    for k in range(validation_count):\n",
    "        validation_loss += reconstruction_loss(bass_outputs[k], batch_bass_validation_raw[k])\n",
    "    print(f\"#{epoch + 1} reconstruction validation loss: {validation_loss/validation_count}\")\n",
    "print('Finished Training')"
   ]
  },
  {
   "cell_type": "markdown",
   "metadata": {},
   "source": [
    "### Этап эксплуатации нейросети\n",
    "Посмотрим на результаты, что выдаёт нейросеть на выходе..."
   ]
  },
  {
   "cell_type": "code",
   "execution_count": 12,
   "metadata": {},
   "outputs": [],
   "source": [
    "with torch.no_grad():\n",
    "    bass_outputs = dnb_ffnn(drum_train)\n",
    "result = bass_outputs[0].squeeze().int()\n",
    "# result"
   ]
  },
  {
   "cell_type": "markdown",
   "metadata": {},
   "source": [
    "Однако, более интересно посмотреть на то, что получилось в латентном пространстве... Неплохо было бы визуализировать точки в латентном пространстве"
   ]
  },
  {
   "cell_type": "code",
   "execution_count": 15,
   "metadata": {},
   "outputs": [
    {
     "data": {
      "image/png": "[encoded data removed]",
      "text/plain": [
       "<Figure size 432x288 with 1 Axes>"
      ]
     },
     "metadata": {
      "needs_background": "light"
     },
     "output_type": "display_data"
    }
   ],
   "source": [
    "with torch.no_grad():\n",
    "    latent_train = dnb_ffnn.encoder(dnb_ffnn.get_images(drum_train), dnb_ffnn.get_conditionings(drum_train))\n",
    "    \n",
    "mu, dev = latent_train\n",
    "mu\n",
    "# libraries\n",
    "import matplotlib.pyplot as plt\n",
    "import numpy as np\n",
    " \n",
    "# create data\n",
    "x = mu[:,0]*100\n",
    "y = mu[:,1]*100\n",
    "z = dev\n",
    " \n",
    "# use the scatter function\n",
    "plt.scatter(x, y, s=z*100)\n",
    "plt.show()\n"
   ]
  },
  {
   "cell_type": "markdown",
   "metadata": {},
   "source": [
    "Попробуем сохранить результаты работы сети. На anaconda нет mido, поэтому сохраняем результаты работы просто в массивчик npy... Однако, как альтернатива, его можно поставить чере pip в conda:\n",
    "https://github.com/mido/mido/issues/198"
   ]
  },
  {
   "cell_type": "code",
   "execution_count": 16,
   "metadata": {
    "scrolled": true
   },
   "outputs": [],
   "source": [
    "import mido\n",
    "from decode_patterns.data_conversion import build_track, DrumMelodyPair, NumpyImage, Converter\n",
    "\n",
    "\n",
    "converter = Converter((data_height, data_width))\n",
    "\n",
    "def output_midi(batch_drum, batch_bass, folder):\n",
    "    with torch.no_grad():\n",
    "        bass_outputs = dnb_ffnn(batch_drum)[0]\n",
    "        bass_outputs = ((bass_outputs.squeeze() + 1) / 2 > 0.55).int()\n",
    "\n",
    "        for i in range(len(batch_drum)):\n",
    "\n",
    "            img_dnb = np.concatenate((batch_drum[i].image,bass_outputs[i]), axis=1)\n",
    "            numpy_pair = NumpyImage(np.array(img_dnb)\n",
    "                                    , batch_drum[i].tempo\n",
    "                                    , batch_drum[i].instrument\n",
    "                                    , 1\n",
    "                                    , batch_drum[i].min_note)\n",
    "            pair = converter.convert_numpy_image_to_pair(numpy_pair)\n",
    "            mid = build_track(pair, tempo=pair.tempo)\n",
    "            mid.save(f\"{folder}/sample{i+1}.mid\")"
   ]
  },
  {
   "cell_type": "markdown",
   "metadata": {},
   "source": [
    "Выводим обучающую и валидационную выборку"
   ]
  },
  {
   "cell_type": "code",
   "execution_count": null,
   "metadata": {},
   "outputs": [],
   "source": [
    "# # если очень надо послушать тренировчную -- лучше её перезагрузить, потому что она перемешивается\n",
    "# drum, bass = data_conversion.make_lstm_dataset_conditioning(height=data_height,\n",
    "#                                                             patterns_file=train_file,\n",
    "#                                                             mono=False)\n",
    "# output_midi(drum_train + drum_test, bass_train + bass_test, \"midi/vae_fcnn_fcnn/train\")\n",
    "output_midi(drum_validation, bass_validation, \"midi/vae_fcnn_fcnn/validation\")"
   ]
  },
  {
   "cell_type": "markdown",
   "metadata": {},
   "source": [
    "По вкусу, выводим тот же результат для кожанных мешков на ассесмент. На самом деле ничем от валидационной выборки не отличается :)"
   ]
  },
  {
   "cell_type": "code",
   "execution_count": 20,
   "metadata": {},
   "outputs": [],
   "source": [
    "drum_hum, bass_hum = data_conversion.make_lstm_dataset_conditioning(height=data_height, patterns_file=human_file, mono=False)\n",
    "output_midi(drum_hum, bass_hum, \"midi/vae_fcnn_fcnn/human\")"
   ]
  },
  {
   "cell_type": "markdown",
   "metadata": {},
   "source": [
    "Попробуем сделать градиент от двух базовых партий!"
   ]
  },
  {
   "cell_type": "code",
   "execution_count": 31,
   "metadata": {
    "scrolled": true
   },
   "outputs": [],
   "source": [
    "# sample1_id = 89\n",
    "# sample2_id = 49\n",
    "\n",
    "steps = 10 # количество шагов между семплами\n",
    "sample1_id = 55\n",
    "sample2_id = 119\n",
    "sample1 = drum_validation[sample1_id]\n",
    "sample2 = drum_validation[sample2_id]\n",
    "\n",
    "# вычисляем два вектора в латентном пространстве\n",
    "with torch.no_grad():\n",
    "    sampls = [sample1, sample2]\n",
    "    latent_train = dnb_ffnn.encoder(dnb_ffnn.get_images(sampls), dnb_ffnn.get_conditionings(sampls))\n",
    "    mu, dev = latent_train\n",
    "\n",
    "    sample1_latent = mu[0]\n",
    "    sample2_latent = mu[1]\n",
    "    \n",
    "    # пробегаемся линейно по латентному пространству\n",
    "    for step in range(steps + 1):\n",
    "        alpha = step / steps\n",
    "        latent_sample = sample1_latent + (sample2_latent - sample1_latent)*alpha\n",
    "        \n",
    "        # пока что выбираем соответствующую барабанную партию в двоичном виде\n",
    "        drum_sample = sample1\n",
    "        if (alpha >= 0.5):\n",
    "            drum_sample = sample2\n",
    "            \n",
    "        # а параметры для кондишнинга -- линейно\n",
    "        tempo = sample1.tempo + (sample2.tempo - sample1.tempo) * alpha\n",
    "        # instrument = sample1.instrument + (sample2.instrument - sample1.instrument) * alpha\n",
    "        instrument = drum_sample.instrument\n",
    "        \n",
    "        # декодируем линейную комбинацию\n",
    "        conditionings = torch.tensor([tempo, instrument]).float()\n",
    "        upsample = dnb_ffnn.decoder(latent_sample.unsqueeze(dim=0), conditionings.unsqueeze(dim=0))\n",
    "        upsample =  upsample.view((data_height, melody_width))\n",
    "        upsample = ((upsample.squeeze() + 1) / 2 > 0.55)\n",
    "        \n",
    "        \n",
    "        # сохраняем в файл\n",
    "        img_dnb = np.concatenate((drum_sample.image,upsample), axis=1)\n",
    "        numpy_pair = NumpyImage(np.array(img_dnb)\n",
    "                                , tempo\n",
    "                                , int(instrument)\n",
    "                                , 1\n",
    "                                , drum_sample.min_note)\n",
    "        pair = converter.convert_numpy_image_to_pair(numpy_pair)\n",
    "        mid = build_track(pair, tempo=pair.tempo)\n",
    "        mid.save(f\"midi/vae_fcnn_fcnn/grad/gradient{step}.mid\")\n",
    "        \n"
   ]
  },
  {
   "cell_type": "code",
   "execution_count": null,
   "metadata": {},
   "outputs": [],
   "source": []
  }
 ],
 "metadata": {
  "kernelspec": {
   "display_name": "Python 3",
   "language": "python",
   "name": "python3"
  },
  "language_info": {
   "codemirror_mode": {
    "name": "ipython",
    "version": 3
   },
   "file_extension": ".py",
   "mimetype": "text/x-python",
   "name": "python",
   "nbconvert_exporter": "python",
   "pygments_lexer": "ipython3",
   "version": "3.7.4"
  }
 },
 "nbformat": 4,
 "nbformat_minor": 2
}
