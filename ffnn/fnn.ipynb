{
 "cells": [
  {
   "cell_type": "code",
   "execution_count": 118,
   "metadata": {
    "pycharm": {
     "is_executing": false
    }
   },
   "outputs": [],
   "source": [
    "import torch\n",
    "import math\n",
    "import torch.nn as nn\n",
    "from torch.nn import functional as F\n",
    "import torchvision.transforms as transforms\n",
    "import torchvision.datasets as dsets\n",
    "from decode_patterns.create_images import create_images, crop_data, train_test\n",
    "import numpy as np"
   ]
  },
  {
   "cell_type": "code",
   "execution_count": 119,
   "metadata": {
    "pycharm": {
     "is_executing": false,
     "name": "#%%\n"
    }
   },
   "outputs": [],
   "source": [
    "batch_size = 32\n",
    "num_epochs = 500\n",
    "num_epochs = int(num_epochs)"
   ]
  },
  {
   "cell_type": "code",
   "execution_count": 110,
   "metadata": {
    "pycharm": {
     "is_executing": false
    }
   },
   "outputs": [],
   "source": [
    "# prepare data\n",
    "limit = 9600\n",
    "\n",
    "drum, bass, tempo = create_images(file_name=\"../patterns_pairs.tsv\", limit=limit)"
   ]
  },
  {
   "cell_type": "code",
   "execution_count": 189,
   "metadata": {},
   "outputs": [],
   "source": [
    "# model class with bottle throat\n",
    "class FeedforwardNeuralNetModel(nn.Module):\n",
    "    def __init__(self, input_dim, hidden_dim, output_dim):\n",
    "        super(FeedforwardNeuralNetModel, self).__init__()\n",
    "        # Linear function 1: 128 * 14 (+16 with cond)= 1792 --> 2048\n",
    "        self.fc11 = nn.Linear(input_dim, 1500)\n",
    "        #nn.init.normal_(self.fc11.weight, mean=1, std=1)\n",
    "#     self.fc1.weight = nn.Parameter(self.fc1.weight * math.sqrt(input_dim/2))\n",
    "        self.s11 = nn.Sigmoid()\n",
    "        \n",
    "        self.fc12 = nn.Linear(1500, 1100)\n",
    "        #nn.init.normal_(self.fc12.weight, mean=1, std=1)\n",
    "        self.s12 = nn.Sigmoid()\n",
    "        \n",
    "        self.fc13 = nn.Linear(1100, 700)\n",
    "        #nn.init.normal_(self.fc13.weight, mean=1, std=1)\n",
    "        self.s13 = nn.Sigmoid()\n",
    "        \n",
    "        self.fc24 = nn.Linear(700, 1400)\n",
    "        #nn.init.normal_(self.fc24.weight, mean=1, std=1) \n",
    "        self.s24 = nn.Sigmoid()\n",
    "        \n",
    "        self.fc25 = nn.Linear(1400, 2000)\n",
    "        #nn.init.normal_(self.fc25.weight, mean=1, std=1) \n",
    "        self.s25 = nn.Sigmoid()\n",
    "        \n",
    "        self.fc26 = nn.Linear(2000, 4608)\n",
    "        #nn.init.normal_(self.fc26.weight, mean=1, std=1) \n",
    "        self.sigmoid = nn.Sigmoid()\n",
    "\n",
    "    def forward(self, x):\n",
    "\n",
    "        out = self.fc11(x)\n",
    "        out = self.s11(out)\n",
    "        \n",
    "        out = self.fc12(out)\n",
    "        out = self.s12(out)\n",
    "        \n",
    "        out = self.fc13(out)\n",
    "        out = self.s13(out)\n",
    "        \n",
    "        out = self.fc24(out)\n",
    "        out = self.s24(out)\n",
    "        \n",
    "        out = self.fc25(out)\n",
    "        out = self.s25(out)\n",
    "        \n",
    "        out = self.fc26(out)\n",
    "        out = self.sigmoid(out)\n",
    "        \n",
    "        return out"
   ]
  },
  {
   "cell_type": "code",
   "execution_count": 153,
   "metadata": {},
   "outputs": [],
   "source": [
    "# model class with bottle throat\n",
    "class FeedforwardNeuralNetModel(nn.Module):\n",
    "    def __init__(self, input_dim, hidden_dim, output_dim):\n",
    "        super(FeedforwardNeuralNetModel, self).__init__()\n",
    "        # Linear function 1: 128 * 14 (+16 with cond)= 1792 --> 2048\n",
    "        self.fc11 = nn.Linear(input_dim, 1500)\n",
    "        nn.init.normal_(self.fc11.weight, mean=1, std=1)\n",
    "#     self.fc1.weight = nn.Parameter(self.fc1.weight * math.sqrt(input_dim/2))\n",
    "        self.relu11 = nn.ReLU()\n",
    "        \n",
    "        self.fc12 = nn.Linear(1500, 1100)\n",
    "#         nn.init.normal_(self.fc12.weight, mean=1, std=1)\n",
    "        self.relu12 = nn.ReLU()\n",
    "        \n",
    "        self.fc13 = nn.Linear(1100, 700)\n",
    "#         nn.init.normal_(self.fc13.weight, mean=1, std=1)\n",
    "        self.relu13 = nn.ReLU()\n",
    "        \n",
    "        self.fc14 = nn.Linear(700, 400)\n",
    "#         nn.init.normal_(self.fc14.weight, mean=1, std=1) \n",
    "        self.relu14 = nn.ReLU()\n",
    "        \n",
    "        self.fc15 = nn.Linear(400, 130)\n",
    "#         nn.init.normal_(self.fc15.weight, mean=1, std=1) \n",
    "        self.relu15 = nn.ReLU()\n",
    "        \n",
    "        \n",
    "        # throat\n",
    "        self.fc16 = nn.Linear(130, 6)\n",
    "#         nn.init.normal_(self.fc16.weight, mean=1, std=1) \n",
    "        self.relu16 = nn.ReLU()\n",
    "        \n",
    "        self.fc21 = nn.Linear(6, 130)\n",
    "#         nn.init.normal_(self.fc21.weight, mean=1, std=1) \n",
    "        self.relu21 = nn.ReLU()\n",
    "        \n",
    "        \n",
    "        \n",
    "        self.fc22 = nn.Linear(130, 400)\n",
    "#         nn.init.normal_(self.fc22.weight, mean=1, std=1) \n",
    "        self.relu22 = nn.ReLU()\n",
    "        \n",
    "        self.fc23 = nn.Linear(400, 700)\n",
    "#         nn.init.normal_(self.fc23.weight, mean=1, std=1) \n",
    "        self.relu23 = nn.ReLU()\n",
    "        \n",
    "        self.fc24 = nn.Linear(700, 1400)\n",
    "#         nn.init.normal_(self.fc24.weight, mean=1, std=1) \n",
    "        self.relu24 = nn.ReLU()\n",
    "        \n",
    "        self.fc25 = nn.Linear(1400, 2000)\n",
    "#         nn.init.normal_(self.fc25.weight, mean=1, std=1) \n",
    "        self.relu25 = nn.ReLU()\n",
    "        \n",
    "        self.fc26 = nn.Linear(2000, 4608)\n",
    "#         nn.init.normal_(self.fc26.weight, mean=1, std=1) \n",
    "        self.sigmoid = nn.Sigmoid()\n",
    "\n",
    "    def forward(self, x):\n",
    "\n",
    "        out = self.fc11(x)\n",
    "        out = self.relu11(out)\n",
    "        \n",
    "        out = self.fc12(out)\n",
    "        out = self.relu12(out)\n",
    "        \n",
    "        out = self.fc13(out)\n",
    "        out = self.relu13(out)\n",
    "        \n",
    "        out = self.fc14(out)\n",
    "        out = self.relu14(out)\n",
    "        \n",
    "        out = self.fc15(out)\n",
    "        out = self.relu15(out)\n",
    "        \n",
    "        out = self.fc16(out)\n",
    "        out = self.relu16(out)\n",
    "        \n",
    "    \n",
    "        \n",
    "        out = self.fc21(out)\n",
    "        out = self.relu21(out)\n",
    "        \n",
    "        out = self.fc22(out)\n",
    "        out = self.relu22(out)\n",
    "        \n",
    "        out = self.fc23(out)\n",
    "        out = self.relu23(out)\n",
    "        \n",
    "        out = self.fc24(out)\n",
    "        out = self.relu24(out)\n",
    "        \n",
    "        out = self.fc25(out)\n",
    "        out = self.relu25(out)\n",
    "        \n",
    "        out = self.fc26(out)\n",
    "        out = self.sigmoid(out)\n",
    "        \n",
    "        return out\n"
   ]
  },
  {
   "cell_type": "code",
   "execution_count": 16,
   "metadata": {
    "pycharm": {
     "is_executing": false
    }
   },
   "outputs": [],
   "source": [
    "# model class\n",
    "class FeedforwardNeuralNetModel(nn.Module):\n",
    "    def __init__(self, input_dim, hidden_dim, output_dim):\n",
    "        super(FeedforwardNeuralNetModel, self).__init__()\n",
    "        # Linear function 1: 128 * 14 (+16 with cond)= 1792 --> 2048\n",
    "        # веса накидываются тут\n",
    "        self.fc1 = nn.Linear(input_dim, hidden_dim) \n",
    "        # решение по весам\n",
    "#         nn.init.normal_(self.fc1.weight, mean=0, std=1)\n",
    "#         self.fc1.weight = nn.Parameter(self.fc1.weight * math.sqrt(input_dim/2))\n",
    "        self.relu1 = nn.ReLU()\n",
    "        \n",
    "        # Linear function 2: 2048 --> 2048\n",
    "        self.fc2 = nn.Linear(hidden_dim, hidden_dim)\n",
    "#         # Non-linearity 2\n",
    "#         nn.init.normal_(self.fc2.weight, mean=0, std=1)\n",
    "#         self.fc2.weight = nn.Parameter(self.fc2.weight * math.sqrt(hidden_dim/2))\n",
    "        self.relu2 = nn.ReLU()\n",
    "\n",
    "        # Linear function 3: 2048 --> 2048\n",
    "        self.fc3 = nn.Linear(hidden_dim, hidden_dim)\n",
    "        # Non-linearity 3\n",
    "        nn.init.normal_(self.fc3.weight, mean=0, std=1)\n",
    "        self.fc3.weight = nn.Parameter(self.fc3.weight * math.sqrt(hidden_dim/2))\n",
    "        self.relu3 = nn.ReLU()\n",
    "\n",
    "        # Linear function 4 (readout): 2048 --> 128 * 36 = 4608\n",
    "        self.fc4 = nn.Linear(hidden_dim, output_dim)  \n",
    "        nn.init.normal_(self.fc4.weight, mean=0, std=1)\n",
    "        self.fc4.weight = nn.Parameter(self.fc4.weight * math.sqrt(hidden_dim/2))\n",
    "        self.sigmoid = nn.Sigmoid()\n",
    "\n",
    "    def forward(self, x):\n",
    "        # Linear function 1\n",
    "        out = self.fc1(x)\n",
    "        # Non-linearity 1\n",
    "        out = self.relu1(out)\n",
    "\n",
    "        # Linear function 2\n",
    "        out = self.fc2(out)\n",
    "        # Non-linearity 2\n",
    "        out = self.relu2(out)\n",
    "\n",
    "        # Linear function 2\n",
    "        out = self.fc3(out)\n",
    "        # Non-linearity 2\n",
    "        out = self.relu3(out)\n",
    "\n",
    "        # Linear function 4 (readout)\n",
    "        out = self.fc4(out)\n",
    "        out = self.sigmoid(out)\n",
    "        return out\n"
   ]
  },
  {
   "cell_type": "code",
   "execution_count": 190,
   "metadata": {
    "pycharm": {
     "is_executing": false
    }
   },
   "outputs": [
    {
     "data": {
      "text/plain": [
       "FeedforwardNeuralNetModel(\n",
       "  (fc11): Linear(in_features=1808, out_features=1500, bias=True)\n",
       "  (s11): Sigmoid()\n",
       "  (fc12): Linear(in_features=1500, out_features=1100, bias=True)\n",
       "  (s12): Sigmoid()\n",
       "  (fc13): Linear(in_features=1100, out_features=700, bias=True)\n",
       "  (s13): Sigmoid()\n",
       "  (fc24): Linear(in_features=700, out_features=1400, bias=True)\n",
       "  (s24): Sigmoid()\n",
       "  (fc25): Linear(in_features=1400, out_features=2000, bias=True)\n",
       "  (s25): Sigmoid()\n",
       "  (fc26): Linear(in_features=2000, out_features=4608, bias=True)\n",
       "  (sigmoid): Sigmoid()\n",
       ")"
      ]
     },
     "execution_count": 190,
     "metadata": {},
     "output_type": "execute_result"
    }
   ],
   "source": [
    "# instantiate model class\n",
    "\n",
    "input_dim = 128 * 14 + 16\n",
    "output_dim = 128 * 36\n",
    "hidden_dim = 2048\n",
    "model = FeedforwardNeuralNetModel(input_dim, hidden_dim, output_dim)\n",
    "\n",
    "\n",
    "#device = torch.device(\"cuda:0\" if torch.cuda.is_available() else \"cpu\")\n",
    "device = torch.device(\"cpu\")\n",
    "model.to(device)"
   ]
  },
  {
   "cell_type": "code",
   "execution_count": 191,
   "metadata": {
    "pycharm": {
     "is_executing": false
    }
   },
   "outputs": [],
   "source": [
    "# instantiate loss class\n",
    "# criterion = nn.MSELoss()\n",
    "# criterion = nn.BCEWithLogitsLoss()\n",
    "criterion = F.binary_cross_entropy"
   ]
  },
  {
   "cell_type": "code",
   "execution_count": 192,
   "metadata": {},
   "outputs": [],
   "source": [
    "learning_rate = 0.001"
   ]
  },
  {
   "cell_type": "code",
   "execution_count": 193,
   "metadata": {
    "pycharm": {
     "is_executing": false
    }
   },
   "outputs": [],
   "source": [
    "# instantiate optimizer class\n",
    "# менять learning_rate по мере обучения\n",
    "\n",
    "optimizer = torch.optim.Adam(model.parameters(), lr=learning_rate)\n",
    "# initialise weights"
   ]
  },
  {
   "cell_type": "code",
   "execution_count": 194,
   "metadata": {
    "pycharm": {
     "is_executing": false,
     "name": "#%%\n"
    }
   },
   "outputs": [
    {
     "name": "stdout",
     "output_type": "stream",
     "text": [
      "Epoch # 1\n",
      "Iteration: 100. error: 47.64019012451172\n",
      "Iteration: 200. error: 47.44186782836914\n",
      "Epoch # 2\n",
      "Iteration: 300. error: 47.11676788330078\n",
      "Iteration: 400. error: 46.95383071899414\n",
      "Epoch # 3\n",
      "Iteration: 500. error: 46.69102478027344\n",
      "Iteration: 600. error: 46.734989166259766\n",
      "Iteration: 700. error: 46.661067962646484\n",
      "Epoch # 4\n",
      "Iteration: 800. error: 48.328330993652344\n",
      "Iteration: 900. error: 48.21558380126953\n",
      "Epoch # 5\n",
      "Iteration: 1000. error: 46.243228912353516\n",
      "Iteration: 1100. error: 46.187259674072266\n",
      "Iteration: 1200. error: 46.13276290893555\n",
      "Epoch # 6\n",
      "Iteration: 1300. error: 46.46315383911133\n",
      "Iteration: 1400. error: 46.41460037231445\n",
      "Epoch # 7\n",
      "Iteration: 1500. error: 47.680084228515625\n",
      "Iteration: 1600. error: 47.67027282714844\n",
      "Epoch # 8\n",
      "Iteration: 1700. error: 46.316776275634766\n",
      "Iteration: 1800. error: 46.390892028808594\n",
      "Iteration: 1900. error: 46.31707763671875\n",
      "Epoch # 9\n",
      "Iteration: 2000. error: 46.7801399230957\n",
      "Iteration: 2100. error: 46.785194396972656\n",
      "Epoch # 10\n",
      "Iteration: 2200. error: 46.62825012207031\n",
      "Iteration: 2300. error: 46.558475494384766\n",
      "Iteration: 2400. error: 46.51927185058594\n",
      "Epoch # 11\n",
      "Iteration: 2500. error: 46.60169982910156\n",
      "Iteration: 2600. error: 46.56058883666992\n",
      "Epoch # 12\n",
      "Iteration: 2700. error: 45.98175048828125\n",
      "Iteration: 2800. error: 45.97554397583008\n",
      "Epoch # 13\n",
      "Iteration: 2900. error: 46.70309066772461\n",
      "Iteration: 3000. error: 46.73957443237305\n",
      "Iteration: 3100. error: 46.754207611083984\n",
      "Epoch # 14\n",
      "Iteration: 3200. error: 46.81171417236328\n",
      "Iteration: 3300. error: 46.88262176513672\n",
      "Epoch # 15\n",
      "Iteration: 3400. error: 46.74360656738281\n",
      "Iteration: 3500. error: 46.79010009765625\n",
      "Iteration: 3600. error: 46.655853271484375\n",
      "Epoch # 16\n",
      "Iteration: 3700. error: 46.789546966552734\n",
      "Iteration: 3800. error: 46.625972747802734\n",
      "Epoch # 17\n",
      "Iteration: 3900. error: 46.476863861083984\n",
      "Iteration: 4000. error: 46.41595458984375\n",
      "Epoch # 18\n",
      "Iteration: 4100. error: 45.78504943847656\n",
      "Iteration: 4200. error: 45.445613861083984\n"
     ]
    },
    {
     "ename": "KeyboardInterrupt",
     "evalue": "",
     "output_type": "error",
     "traceback": [
      "\u001b[1;31m---------------------------------------------------------------------------\u001b[0m",
      "\u001b[1;31mKeyboardInterrupt\u001b[0m                         Traceback (most recent call last)",
      "\u001b[1;32m<ipython-input-194-84fbe81bd66d>\u001b[0m in \u001b[0;36m<module>\u001b[1;34m\u001b[0m\n\u001b[0;32m     39\u001b[0m             \u001b[1;31m# Calculate Accuracy\u001b[0m\u001b[1;33m\u001b[0m\u001b[1;33m\u001b[0m\u001b[1;33m\u001b[0m\u001b[0m\n\u001b[0;32m     40\u001b[0m                 \u001b[1;31m# Iterate through test dataset\u001b[0m\u001b[1;33m\u001b[0m\u001b[1;33m\u001b[0m\u001b[1;33m\u001b[0m\u001b[0m\n\u001b[1;32m---> 41\u001b[1;33m                 \u001b[0mout\u001b[0m \u001b[1;33m=\u001b[0m \u001b[0mmodel\u001b[0m\u001b[1;33m(\u001b[0m\u001b[0mimg\u001b[0m\u001b[1;33m.\u001b[0m\u001b[0mview\u001b[0m\u001b[1;33m(\u001b[0m\u001b[1;33m-\u001b[0m\u001b[1;36m1\u001b[0m\u001b[1;33m,\u001b[0m \u001b[0minput_dim\u001b[0m\u001b[1;33m)\u001b[0m\u001b[1;33m.\u001b[0m\u001b[0mto\u001b[0m\u001b[1;33m(\u001b[0m\u001b[0mdevice\u001b[0m\u001b[1;33m)\u001b[0m\u001b[1;33m.\u001b[0m\u001b[0mfloat\u001b[0m\u001b[1;33m(\u001b[0m\u001b[1;33m)\u001b[0m\u001b[1;33m)\u001b[0m\u001b[1;33m\u001b[0m\u001b[1;33m\u001b[0m\u001b[0m\n\u001b[0m\u001b[0;32m     42\u001b[0m                 \u001b[0merror\u001b[0m \u001b[1;33m+=\u001b[0m \u001b[0mcriterion\u001b[0m\u001b[1;33m(\u001b[0m\u001b[0mout\u001b[0m\u001b[1;33m.\u001b[0m\u001b[0mfloat\u001b[0m\u001b[1;33m(\u001b[0m\u001b[1;33m)\u001b[0m\u001b[1;33m,\u001b[0m \u001b[0mlbl\u001b[0m\u001b[1;33m.\u001b[0m\u001b[0mfloat\u001b[0m\u001b[1;33m(\u001b[0m\u001b[1;33m)\u001b[0m\u001b[1;33m)\u001b[0m\u001b[1;33m\u001b[0m\u001b[1;33m\u001b[0m\u001b[0m\n\u001b[0;32m     43\u001b[0m             \u001b[0mprint\u001b[0m\u001b[1;33m(\u001b[0m\u001b[1;34m'Iteration: {}. error: {}'\u001b[0m\u001b[1;33m.\u001b[0m\u001b[0mformat\u001b[0m\u001b[1;33m(\u001b[0m\u001b[0miter\u001b[0m\u001b[1;33m,\u001b[0m \u001b[0merror\u001b[0m\u001b[1;33m)\u001b[0m\u001b[1;33m)\u001b[0m\u001b[1;33m\u001b[0m\u001b[1;33m\u001b[0m\u001b[0m\n",
      "\u001b[1;32m~\\Anaconda3\\lib\\site-packages\\torch\\nn\\modules\\module.py\u001b[0m in \u001b[0;36m__call__\u001b[1;34m(self, *input, **kwargs)\u001b[0m\n\u001b[0;32m    539\u001b[0m             \u001b[0mresult\u001b[0m \u001b[1;33m=\u001b[0m \u001b[0mself\u001b[0m\u001b[1;33m.\u001b[0m\u001b[0m_slow_forward\u001b[0m\u001b[1;33m(\u001b[0m\u001b[1;33m*\u001b[0m\u001b[0minput\u001b[0m\u001b[1;33m,\u001b[0m \u001b[1;33m**\u001b[0m\u001b[0mkwargs\u001b[0m\u001b[1;33m)\u001b[0m\u001b[1;33m\u001b[0m\u001b[1;33m\u001b[0m\u001b[0m\n\u001b[0;32m    540\u001b[0m         \u001b[1;32melse\u001b[0m\u001b[1;33m:\u001b[0m\u001b[1;33m\u001b[0m\u001b[1;33m\u001b[0m\u001b[0m\n\u001b[1;32m--> 541\u001b[1;33m             \u001b[0mresult\u001b[0m \u001b[1;33m=\u001b[0m \u001b[0mself\u001b[0m\u001b[1;33m.\u001b[0m\u001b[0mforward\u001b[0m\u001b[1;33m(\u001b[0m\u001b[1;33m*\u001b[0m\u001b[0minput\u001b[0m\u001b[1;33m,\u001b[0m \u001b[1;33m**\u001b[0m\u001b[0mkwargs\u001b[0m\u001b[1;33m)\u001b[0m\u001b[1;33m\u001b[0m\u001b[1;33m\u001b[0m\u001b[0m\n\u001b[0m\u001b[0;32m    542\u001b[0m         \u001b[1;32mfor\u001b[0m \u001b[0mhook\u001b[0m \u001b[1;32min\u001b[0m \u001b[0mself\u001b[0m\u001b[1;33m.\u001b[0m\u001b[0m_forward_hooks\u001b[0m\u001b[1;33m.\u001b[0m\u001b[0mvalues\u001b[0m\u001b[1;33m(\u001b[0m\u001b[1;33m)\u001b[0m\u001b[1;33m:\u001b[0m\u001b[1;33m\u001b[0m\u001b[1;33m\u001b[0m\u001b[0m\n\u001b[0;32m    543\u001b[0m             \u001b[0mhook_result\u001b[0m \u001b[1;33m=\u001b[0m \u001b[0mhook\u001b[0m\u001b[1;33m(\u001b[0m\u001b[0mself\u001b[0m\u001b[1;33m,\u001b[0m \u001b[0minput\u001b[0m\u001b[1;33m,\u001b[0m \u001b[0mresult\u001b[0m\u001b[1;33m)\u001b[0m\u001b[1;33m\u001b[0m\u001b[1;33m\u001b[0m\u001b[0m\n",
      "\u001b[1;32m<ipython-input-189-bfd16d5528b7>\u001b[0m in \u001b[0;36mforward\u001b[1;34m(self, x)\u001b[0m\n\u001b[0;32m     31\u001b[0m     \u001b[1;32mdef\u001b[0m \u001b[0mforward\u001b[0m\u001b[1;33m(\u001b[0m\u001b[0mself\u001b[0m\u001b[1;33m,\u001b[0m \u001b[0mx\u001b[0m\u001b[1;33m)\u001b[0m\u001b[1;33m:\u001b[0m\u001b[1;33m\u001b[0m\u001b[1;33m\u001b[0m\u001b[0m\n\u001b[0;32m     32\u001b[0m \u001b[1;33m\u001b[0m\u001b[0m\n\u001b[1;32m---> 33\u001b[1;33m         \u001b[0mout\u001b[0m \u001b[1;33m=\u001b[0m \u001b[0mself\u001b[0m\u001b[1;33m.\u001b[0m\u001b[0mfc11\u001b[0m\u001b[1;33m(\u001b[0m\u001b[0mx\u001b[0m\u001b[1;33m)\u001b[0m\u001b[1;33m\u001b[0m\u001b[1;33m\u001b[0m\u001b[0m\n\u001b[0m\u001b[0;32m     34\u001b[0m         \u001b[0mout\u001b[0m \u001b[1;33m=\u001b[0m \u001b[0mself\u001b[0m\u001b[1;33m.\u001b[0m\u001b[0ms11\u001b[0m\u001b[1;33m(\u001b[0m\u001b[0mout\u001b[0m\u001b[1;33m)\u001b[0m\u001b[1;33m\u001b[0m\u001b[1;33m\u001b[0m\u001b[0m\n\u001b[0;32m     35\u001b[0m \u001b[1;33m\u001b[0m\u001b[0m\n",
      "\u001b[1;32m~\\Anaconda3\\lib\\site-packages\\torch\\nn\\modules\\module.py\u001b[0m in \u001b[0;36m__call__\u001b[1;34m(self, *input, **kwargs)\u001b[0m\n\u001b[0;32m    539\u001b[0m             \u001b[0mresult\u001b[0m \u001b[1;33m=\u001b[0m \u001b[0mself\u001b[0m\u001b[1;33m.\u001b[0m\u001b[0m_slow_forward\u001b[0m\u001b[1;33m(\u001b[0m\u001b[1;33m*\u001b[0m\u001b[0minput\u001b[0m\u001b[1;33m,\u001b[0m \u001b[1;33m**\u001b[0m\u001b[0mkwargs\u001b[0m\u001b[1;33m)\u001b[0m\u001b[1;33m\u001b[0m\u001b[1;33m\u001b[0m\u001b[0m\n\u001b[0;32m    540\u001b[0m         \u001b[1;32melse\u001b[0m\u001b[1;33m:\u001b[0m\u001b[1;33m\u001b[0m\u001b[1;33m\u001b[0m\u001b[0m\n\u001b[1;32m--> 541\u001b[1;33m             \u001b[0mresult\u001b[0m \u001b[1;33m=\u001b[0m \u001b[0mself\u001b[0m\u001b[1;33m.\u001b[0m\u001b[0mforward\u001b[0m\u001b[1;33m(\u001b[0m\u001b[1;33m*\u001b[0m\u001b[0minput\u001b[0m\u001b[1;33m,\u001b[0m \u001b[1;33m**\u001b[0m\u001b[0mkwargs\u001b[0m\u001b[1;33m)\u001b[0m\u001b[1;33m\u001b[0m\u001b[1;33m\u001b[0m\u001b[0m\n\u001b[0m\u001b[0;32m    542\u001b[0m         \u001b[1;32mfor\u001b[0m \u001b[0mhook\u001b[0m \u001b[1;32min\u001b[0m \u001b[0mself\u001b[0m\u001b[1;33m.\u001b[0m\u001b[0m_forward_hooks\u001b[0m\u001b[1;33m.\u001b[0m\u001b[0mvalues\u001b[0m\u001b[1;33m(\u001b[0m\u001b[1;33m)\u001b[0m\u001b[1;33m:\u001b[0m\u001b[1;33m\u001b[0m\u001b[1;33m\u001b[0m\u001b[0m\n\u001b[0;32m    543\u001b[0m             \u001b[0mhook_result\u001b[0m \u001b[1;33m=\u001b[0m \u001b[0mhook\u001b[0m\u001b[1;33m(\u001b[0m\u001b[0mself\u001b[0m\u001b[1;33m,\u001b[0m \u001b[0minput\u001b[0m\u001b[1;33m,\u001b[0m \u001b[0mresult\u001b[0m\u001b[1;33m)\u001b[0m\u001b[1;33m\u001b[0m\u001b[1;33m\u001b[0m\u001b[0m\n",
      "\u001b[1;32m~\\Anaconda3\\lib\\site-packages\\torch\\nn\\modules\\linear.py\u001b[0m in \u001b[0;36mforward\u001b[1;34m(self, input)\u001b[0m\n\u001b[0;32m     85\u001b[0m \u001b[1;33m\u001b[0m\u001b[0m\n\u001b[0;32m     86\u001b[0m     \u001b[1;32mdef\u001b[0m \u001b[0mforward\u001b[0m\u001b[1;33m(\u001b[0m\u001b[0mself\u001b[0m\u001b[1;33m,\u001b[0m \u001b[0minput\u001b[0m\u001b[1;33m)\u001b[0m\u001b[1;33m:\u001b[0m\u001b[1;33m\u001b[0m\u001b[1;33m\u001b[0m\u001b[0m\n\u001b[1;32m---> 87\u001b[1;33m         \u001b[1;32mreturn\u001b[0m \u001b[0mF\u001b[0m\u001b[1;33m.\u001b[0m\u001b[0mlinear\u001b[0m\u001b[1;33m(\u001b[0m\u001b[0minput\u001b[0m\u001b[1;33m,\u001b[0m \u001b[0mself\u001b[0m\u001b[1;33m.\u001b[0m\u001b[0mweight\u001b[0m\u001b[1;33m,\u001b[0m \u001b[0mself\u001b[0m\u001b[1;33m.\u001b[0m\u001b[0mbias\u001b[0m\u001b[1;33m)\u001b[0m\u001b[1;33m\u001b[0m\u001b[1;33m\u001b[0m\u001b[0m\n\u001b[0m\u001b[0;32m     88\u001b[0m \u001b[1;33m\u001b[0m\u001b[0m\n\u001b[0;32m     89\u001b[0m     \u001b[1;32mdef\u001b[0m \u001b[0mextra_repr\u001b[0m\u001b[1;33m(\u001b[0m\u001b[0mself\u001b[0m\u001b[1;33m)\u001b[0m\u001b[1;33m:\u001b[0m\u001b[1;33m\u001b[0m\u001b[1;33m\u001b[0m\u001b[0m\n",
      "\u001b[1;32m~\\Anaconda3\\lib\\site-packages\\torch\\nn\\functional.py\u001b[0m in \u001b[0;36mlinear\u001b[1;34m(input, weight, bias)\u001b[0m\n\u001b[0;32m   1368\u001b[0m     \u001b[1;32mif\u001b[0m \u001b[0minput\u001b[0m\u001b[1;33m.\u001b[0m\u001b[0mdim\u001b[0m\u001b[1;33m(\u001b[0m\u001b[1;33m)\u001b[0m \u001b[1;33m==\u001b[0m \u001b[1;36m2\u001b[0m \u001b[1;32mand\u001b[0m \u001b[0mbias\u001b[0m \u001b[1;32mis\u001b[0m \u001b[1;32mnot\u001b[0m \u001b[1;32mNone\u001b[0m\u001b[1;33m:\u001b[0m\u001b[1;33m\u001b[0m\u001b[1;33m\u001b[0m\u001b[0m\n\u001b[0;32m   1369\u001b[0m         \u001b[1;31m# fused op is marginally faster\u001b[0m\u001b[1;33m\u001b[0m\u001b[1;33m\u001b[0m\u001b[1;33m\u001b[0m\u001b[0m\n\u001b[1;32m-> 1370\u001b[1;33m         \u001b[0mret\u001b[0m \u001b[1;33m=\u001b[0m \u001b[0mtorch\u001b[0m\u001b[1;33m.\u001b[0m\u001b[0maddmm\u001b[0m\u001b[1;33m(\u001b[0m\u001b[0mbias\u001b[0m\u001b[1;33m,\u001b[0m \u001b[0minput\u001b[0m\u001b[1;33m,\u001b[0m \u001b[0mweight\u001b[0m\u001b[1;33m.\u001b[0m\u001b[0mt\u001b[0m\u001b[1;33m(\u001b[0m\u001b[1;33m)\u001b[0m\u001b[1;33m)\u001b[0m\u001b[1;33m\u001b[0m\u001b[1;33m\u001b[0m\u001b[0m\n\u001b[0m\u001b[0;32m   1371\u001b[0m     \u001b[1;32melse\u001b[0m\u001b[1;33m:\u001b[0m\u001b[1;33m\u001b[0m\u001b[1;33m\u001b[0m\u001b[0m\n\u001b[0;32m   1372\u001b[0m         \u001b[0moutput\u001b[0m \u001b[1;33m=\u001b[0m \u001b[0minput\u001b[0m\u001b[1;33m.\u001b[0m\u001b[0mmatmul\u001b[0m\u001b[1;33m(\u001b[0m\u001b[0mweight\u001b[0m\u001b[1;33m.\u001b[0m\u001b[0mt\u001b[0m\u001b[1;33m(\u001b[0m\u001b[1;33m)\u001b[0m\u001b[1;33m)\u001b[0m\u001b[1;33m\u001b[0m\u001b[1;33m\u001b[0m\u001b[0m\n",
      "\u001b[1;31mKeyboardInterrupt\u001b[0m: "
     ]
    }
   ],
   "source": [
    "k = 0\n",
    "l = 0\n",
    "sz = 0\n",
    "iter = 0\n",
    "iter_epoch = 0\n",
    "for epoch in range(num_epochs):\n",
    "    (train_set, train_t), (test_set, test_t) = train_test(drum, bass, tempo, batch_size=batch_size, img_size=(128, 50))\n",
    "    iter_epoch += 1\n",
    "    print(f\"Epoch # {iter_epoch}\")\n",
    "    for i, (images, labels) in enumerate(zip(*train_set)):\n",
    "        \n",
    "        images = images.view(-1, input_dim).requires_grad_().to(device).float()\n",
    "        labels = labels.to(device).float().reshape((32, 4608))\n",
    "\n",
    "        optimizer.zero_grad()\n",
    "\n",
    "        outputs = model(images)\n",
    "\n",
    "#       print(\"images.size(): \", images.size(), \"\\nlabels.size(): \", labels.size(), \"\\noutputs.size(): \", \n",
    "#               outputs.size(), \"\\noutputs[i].size()\", outputs[i].size(), \"\\nlabels.view(-1, output_dim)[i].size(): \",\n",
    "#              labels.view(-1, output_dim)[i].size())\n",
    "#       есть тип ошибок, которые не нужно считать в цикле\n",
    "#       loss = criterion(outputs, labels.view(-1, output_dim).long())\n",
    "        loss = 0\n",
    "        for i in range(batch_size):\n",
    "            loss += criterion(outputs[i], labels[i])\n",
    "#         loss = criterion(outputs.view(-1, output_dim), labels.squeeze().view(-1, output_dim))\n",
    "        # Getting gradients w.r.t. parameters\n",
    "        loss.backward()\n",
    "\n",
    "        # Updating parameters\n",
    "        optimizer.step()\n",
    "\n",
    "        iter += 1\n",
    "\n",
    "        if iter % 100 == 0:\n",
    "            error = 0\n",
    "            for img, lbl in zip(*test_set):\n",
    "            # Calculate Accuracy         \n",
    "                # Iterate through test dataset\n",
    "                out = model(img.view(-1, input_dim).to(device).float())\n",
    "                error += criterion(out.float(), lbl.float())\n",
    "            print('Iteration: {}. error: {}'.format(iter, error))"
   ]
  },
  {
   "cell_type": "code",
   "execution_count": 160,
   "metadata": {
    "pycharm": {
     "name": "#%%\n"
    }
   },
   "outputs": [
    {
     "name": "stdout",
     "output_type": "stream",
     "text": [
      "torch.Size([32, 4608]) torch.Size([4608]) torch.Size([32, 4608]) 32\n"
     ]
    }
   ],
   "source": [
    "print(k, l, sz, batch_size)\n"
   ]
  },
  {
   "cell_type": "code",
   "execution_count": 201,
   "metadata": {
    "pycharm": {
     "is_executing": false
    }
   },
   "outputs": [
    {
     "name": "stdout",
     "output_type": "stream",
     "text": [
      "tensor(1., dtype=torch.float64)\n",
      "tensor(0., dtype=torch.float64)\n",
      "tensor(0.0050, dtype=torch.float64)\n"
     ]
    }
   ],
   "source": [
    "outputs = model(test_set[0].view(-1, 128 * 14 + 16).to(device).float())\n",
    "lables = test_set[1].view(-1, 128 * 36).to(device)\n",
    "print(lables.max())\n",
    "print(lables.min())\n",
    "print(lables.mean())"
   ]
  },
  {
   "cell_type": "code",
   "execution_count": 202,
   "metadata": {
    "pycharm": {
     "name": "#%%\n"
    }
   },
   "outputs": [],
   "source": [
    "(train_set, _), (test_set, _) = train_test(drum, bass, tempo, batch_size = batch_size)"
   ]
  },
  {
   "cell_type": "code",
   "execution_count": 14,
   "metadata": {
    "pycharm": {
     "is_executing": false,
     "name": "#%%\n"
    }
   },
   "outputs": [],
   "source": [
    "torch.save(model.state_dict(), \"../model_2_state\")"
   ]
  },
  {
   "cell_type": "code",
   "execution_count": 6,
   "metadata": {},
   "outputs": [
    {
     "data": {
      "text/plain": [
       "FeedforwardNeuralNetModel(\n",
       "  (fc1): Linear(in_features=1792, out_features=2048, bias=True)\n",
       "  (relu1): ReLU()\n",
       "  (fc2): Linear(in_features=2048, out_features=2048, bias=True)\n",
       "  (relu2): ReLU()\n",
       "  (fc3): Linear(in_features=2048, out_features=2048, bias=True)\n",
       "  (relu3): ReLU()\n",
       "  (fc4): Linear(in_features=2048, out_features=4608, bias=True)\n",
       "  (sigmoid): Sigmoid()\n",
       ")"
      ]
     },
     "execution_count": 6,
     "metadata": {},
     "output_type": "execute_result"
    }
   ],
   "source": [
    "model = FeedforwardNeuralNetModel(input_dim - 16, hidden_dim, output_dim)\n",
    "model.to(device)\n",
    "model.load_state_dict(torch.load(\"../model_0_state\"))\n",
    "model.eval()"
   ]
  },
  {
   "cell_type": "code",
   "execution_count": 203,
   "metadata": {},
   "outputs": [],
   "source": [
    "(train_set, train_tempo), (test_set, test_tempo) = train_test(drum, bass, tempo, batch_size = batch_size)\n",
    "drum_set = torch.cat((train_set[0].reshape([-1, 1, 128 * 14 + 16]), test_set[0]), 0)\n",
    "temp_set = np.concatenate((train_tempo,test_tempo))\n",
    "result = []\n",
    "for d in drum_set:\n",
    "    output = (model(d.view(-1, 128 * 14 + 16).float().to(device)).cpu() > 0.5).float().reshape([128, 36])\n",
    "    d = d[:, :-16]\n",
    "#     output = (model(d.view(-1, 128 * 14).float().to(device)).cpu() > 0.5).float().reshape([128, 36])\n",
    "    d = d.reshape([128, 14]).float()\n",
    "    result.append(np.array(torch.cat((d, output), 1)))\n",
    "result = np.array(result)"
   ]
  },
  {
   "cell_type": "code",
   "execution_count": 213,
   "metadata": {},
   "outputs": [],
   "source": [
    "#output = model(drum_set[15][:, :-16].view(-1, 128 * 14).float().to(device)).cpu()\n",
    "output = model(drum_set[15].view(-1, 128 * 14 + 16).float().to(device)).cpu() > 0.5"
   ]
  },
  {
   "cell_type": "code",
   "execution_count": 216,
   "metadata": {},
   "outputs": [
    {
     "data": {
      "text/plain": [
       "tensor(False)"
      ]
     },
     "execution_count": 216,
     "metadata": {},
     "output_type": "execute_result"
    }
   ],
   "source": [
    "output.min()"
   ]
  },
  {
   "cell_type": "code",
   "execution_count": 226,
   "metadata": {},
   "outputs": [
    {
     "data": {
      "text/plain": [
       "tensor(16., dtype=torch.float64)"
      ]
     },
     "execution_count": 226,
     "metadata": {},
     "output_type": "execute_result"
    }
   ],
   "source": []
  },
  {
   "cell_type": "code",
   "execution_count": 209,
   "metadata": {},
   "outputs": [],
   "source": [
    "import mido\n",
    "from decode_patterns.data_conversion import build_track, DrumMelodyPair, Converter\n",
    "\n",
    "converter = Converter((128,50))\n",
    "\n",
    "# batch_drum = torch.cat((drum_train, drum_test, torch.tensor(drum_validation))).transpose(0,1)\n",
    "# batch_bass = torch.cat((bass_train.int(), bass_test.int(), torch.tensor(bass_validation).int())).transpose(0,1)\n",
    "with torch.no_grad():\n",
    "\n",
    "    bass_outputs = result\n",
    "\n",
    "    #for i in range(len(bass_outputs)):\n",
    "    for i in range(0, 100):\n",
    "        img_dnb = bass_outputs[i]\n",
    "        t = temp_set[i]\n",
    "        pair = converter.convert_numpy_image_to_pair(np.array(img_dnb))\n",
    "#         print(f\"pair.melody:{pair.melody}\")\n",
    "        mid = build_track(pair, tempo=t)\n",
    "        mid.save(f\"../midi/model_th_gen/sample{i+1}.mid\")\n",
    "#         np.save(f\"midi/npy/drum{i+1}.npy\", batch_drum[:,i,:].int())\n",
    "#         np.save(f\"midi/npy/bass{i+1}.npy\", bass_outputs[:,i,:])"
   ]
  },
  {
   "cell_type": "code",
   "execution_count": null,
   "metadata": {},
   "outputs": [],
   "source": []
  }
 ],
 "metadata": {
  "kernelspec": {
   "display_name": "Python 3",
   "language": "python",
   "name": "python3"
  },
  "language_info": {
   "codemirror_mode": {
    "name": "ipython",
    "version": 3
   },
   "file_extension": ".py",
   "mimetype": "text/x-python",
   "name": "python",
   "nbconvert_exporter": "python",
   "pygments_lexer": "ipython3",
   "version": "3.7.4"
  },
  "pycharm": {
   "stem_cell": {
    "cell_type": "raw",
    "metadata": {
     "collapsed": false
    },
    "source": []
   }
  }
 },
 "nbformat": 4,
 "nbformat_minor": 1
}
